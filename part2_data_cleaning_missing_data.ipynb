{
 "cells": [
  {
   "cell_type": "code",
   "execution_count": 1,
   "id": "ce6f0130",
   "metadata": {},
   "outputs": [
    {
     "name": "stdout",
     "output_type": "stream",
     "text": [
      "Missing values in each column:\n",
      " TransactionID              0\n",
      "AccountID                  0\n",
      "TransactionAmount          0\n",
      "TransactionDate            0\n",
      "TransactionType            0\n",
      "Location                   0\n",
      "DeviceID                   0\n",
      "IP Address                 0\n",
      "MerchantID                 0\n",
      "Channel                    0\n",
      "CustomerAge                0\n",
      "CustomerOccupation         0\n",
      "TransactionDuration        0\n",
      "LoginAttempts              0\n",
      "AccountBalance             0\n",
      "PreviousTransactionDate    0\n",
      "dtype: int64\n"
     ]
    }
   ],
   "source": [
    "# Q1: Check for Missing Values in the Dataset\n",
    "import pandas as pd\n",
    "\n",
    "# Load the dataset\n",
    "df = pd.read_csv(\"bank_transactions_data.csv\")\n",
    "\n",
    "# Count missing values column-wise\n",
    "missing_values = df.isnull().sum()\n",
    "print(\"Missing values in each column:\\n\", missing_values)\n"
   ]
  },
  {
   "cell_type": "code",
   "execution_count": 2,
   "id": "5654701d",
   "metadata": {},
   "outputs": [
    {
     "name": "stdout",
     "output_type": "stream",
     "text": [
      "Empty DataFrame\n",
      "Columns: [TransactionID, AccountID, TransactionAmount, TransactionDate, TransactionType, Location, DeviceID, IP Address, MerchantID, Channel, CustomerAge, CustomerOccupation, TransactionDuration, LoginAttempts, AccountBalance, PreviousTransactionDate]\n",
      "Index: []\n"
     ]
    }
   ],
   "source": [
    "# Q2: Display All Rows That Have Any Missing Value\n",
    "rows_with_missing = df[df.isnull().any(axis=1)]\n",
    "print(rows_with_missing)\n"
   ]
  },
  {
   "cell_type": "code",
   "execution_count": 3,
   "id": "6437b099",
   "metadata": {},
   "outputs": [
    {
     "name": "stdout",
     "output_type": "stream",
     "text": [
      "Shape after dropping rows with NaN: (2512, 16)\n"
     ]
    }
   ],
   "source": [
    "# Q3: Drop All Rows Containing Any Missing Values\n",
    "df_dropped = df.dropna()\n",
    "print(\"Shape after dropping rows with NaN:\", df_dropped.shape)\n"
   ]
  },
  {
   "cell_type": "code",
   "execution_count": 4,
   "id": "825196a9",
   "metadata": {},
   "outputs": [],
   "source": [
    "# Q4: Fill Missing Values in a Specific Column with Mean/Mode/Median\n",
    "median_value = df['TransactionAmount'].median()\n",
    "df.fillna({'TransactionAmount': median_value}, inplace=True)\n",
    "\n"
   ]
  },
  {
   "cell_type": "code",
   "execution_count": 5,
   "id": "f2ced4eb",
   "metadata": {},
   "outputs": [],
   "source": [
    "# Q5: Replace Specific Placeholder Strings Like ‘N/A’, ‘Missing’ etc.\n",
    "df.replace(['N/A', 'n/a', 'missing', 'Missing'], pd.NA, inplace=True)\n"
   ]
  },
  {
   "cell_type": "code",
   "execution_count": 6,
   "id": "c65aae58",
   "metadata": {},
   "outputs": [
    {
     "name": "stdout",
     "output_type": "stream",
     "text": [
      "Total duplicate rows: 0\n",
      "Shape after removing duplicates: (2512, 16)\n"
     ]
    }
   ],
   "source": [
    "# Q6: Check for Duplicate Rows and Remove Them\n",
    "duplicates = df.duplicated().sum()\n",
    "print(\"Total duplicate rows:\", duplicates)\n",
    "\n",
    "df_cleaned = df.drop_duplicates()\n",
    "print(\"Shape after removing duplicates:\", df_cleaned.shape)\n"
   ]
  },
  {
   "cell_type": "code",
   "execution_count": 7,
   "id": "7b346989",
   "metadata": {},
   "outputs": [
    {
     "name": "stdout",
     "output_type": "stream",
     "text": [
      "Number of outliers: 113\n"
     ]
    }
   ],
   "source": [
    "# Q7 (Mini EDA Touch): Check for Outliers Using IQR in ‘TransactionAmount'\n",
    "# \"Detect possible outliers in 'TransactionAmount' using the IQR method.\"\n",
    "Q1 = df['TransactionAmount'].quantile(0.25)\n",
    "Q3 = df['TransactionAmount'].quantile(0.75)\n",
    "IQR = Q3 - Q1\n",
    "\n",
    "lower_bound = Q1 - 1.5 * IQR\n",
    "upper_bound = Q3 + 1.5 * IQR\n",
    "\n",
    "outliers = df[(df['TransactionAmount'] < lower_bound) | (df['TransactionAmount'] > upper_bound)]\n",
    "print(\"Number of outliers:\", outliers.shape[0])\n"
   ]
  }
 ],
 "metadata": {
  "kernelspec": {
   "display_name": "Python 3",
   "language": "python",
   "name": "python3"
  },
  "language_info": {
   "codemirror_mode": {
    "name": "ipython",
    "version": 3
   },
   "file_extension": ".py",
   "mimetype": "text/x-python",
   "name": "python",
   "nbconvert_exporter": "python",
   "pygments_lexer": "ipython3",
   "version": "3.11.4"
  }
 },
 "nbformat": 4,
 "nbformat_minor": 5
}
